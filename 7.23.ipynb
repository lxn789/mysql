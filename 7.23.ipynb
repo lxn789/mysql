{
 "cells": [
  {
   "cell_type": "markdown",
   "metadata": {},
   "source": [
    "# 对象和类\n",
    "- 一个学生，一张桌子，一个圆都是对象\n",
    "- 对象是类的一个实例，你可以创建多个对象，创建类的一个实例过程被称为实例化，\n",
    "- 在Python中对象就是实例，而实例就是对象"
   ]
  },
  {
   "cell_type": "markdown",
   "metadata": {},
   "source": [
    "## 定义类\n",
    "class ClassName:\n",
    "\n",
    "    do something\n",
    "    \n",
    "- class 类的表示与def 一样\n",
    "- 类名最好使用驼峰式\n",
    "- 在Python2中类是需要继承基类object的，在Python中默认继承，可写可不写\n",
    "- 可以将普通代码理解为皮肤，而函数可以理解为内衣，那么类可以理解为外套"
   ]
  },
  {
   "cell_type": "code",
   "execution_count": 1,
   "metadata": {},
   "outputs": [],
   "source": [
    "class joker:\n",
    "    pass"
   ]
  },
  {
   "cell_type": "code",
   "execution_count": 2,
   "metadata": {},
   "outputs": [
    {
     "data": {
      "text/plain": [
       "__main__.joker"
      ]
     },
     "execution_count": 2,
     "metadata": {},
     "output_type": "execute_result"
    }
   ],
   "source": [
    "joker"
   ]
  },
  {
   "cell_type": "markdown",
   "metadata": {},
   "source": [
    "## 定义一个不含初始化__init__的简单类\n",
    "class ClassName:\n",
    "\n",
    "    joker = “Home”\n",
    "    \n",
    "    def func():\n",
    "        print('Worker')\n",
    "    \n",
    "- 尽量少使用"
   ]
  },
  {
   "cell_type": "markdown",
   "metadata": {},
   "source": [
    "\n",
    "\n",
    "## 定义一个标准类\n",
    "- __init__ 代表初始化，可以初始化任何动作\n",
    "- 此时类调用要使用()，其中（）可以理解为开始初始化\n",
    "- 初始化内的元素，类中其他的函数可以共享\n",
    "![](../Photo/85.png)"
   ]
  },
  {
   "cell_type": "code",
   "execution_count": 3,
   "metadata": {},
   "outputs": [],
   "source": [
    "#一切类必须初始化\n",
    "#在类中，所有的函数的第一个参数，都是标示量，不是参数\n",
    "class joker:\n",
    "    def _init_(self):\n",
    "        print('我开始初始化')"
   ]
  },
  {
   "cell_type": "code",
   "execution_count": 4,
   "metadata": {},
   "outputs": [
    {
     "data": {
      "text/plain": [
       "<__main__.joker at 0x20362025940>"
      ]
     },
     "execution_count": 4,
     "metadata": {},
     "output_type": "execute_result"
    }
   ],
   "source": [
    "joker()"
   ]
  },
  {
   "cell_type": "code",
   "execution_count": 15,
   "metadata": {},
   "outputs": [],
   "source": [
    "#一切类必须初始化\n",
    "#在类中，所有的函数的第一个参数，都是标示量，不是参数\n",
    "#若是一个参数需要多次使用，那么可以将其统一放在初始化函数中\n",
    "class joker:\n",
    "    def __init__(self):\n",
    "        print('我初始化')\n",
    "        self.num1 = num1\n",
    "        self.num2 = num2\n",
    "    def Print_(self,name):\n",
    "        print('helow worid',name)\n",
    "    def SUM(self):\n",
    "        return self.num1+self.num2\n",
    "    def cheng(self):\n",
    "        return self.num1*self.num2"
   ]
  },
  {
   "cell_type": "code",
   "execution_count": null,
   "metadata": {},
   "outputs": [],
   "source": []
  },
  {
   "cell_type": "code",
   "execution_count": null,
   "metadata": {},
   "outputs": [],
   "source": []
  },
  {
   "cell_type": "code",
   "execution_count": null,
   "metadata": {},
   "outputs": [],
   "source": []
  },
  {
   "cell_type": "markdown",
   "metadata": {},
   "source": [
    "- Circle 和 className_ 的第一个区别有 __init__ 这个函数\n",
    "- 。。。。   第二个区别，类中的每一个函数都有self的这个“参数”"
   ]
  },
  {
   "cell_type": "markdown",
   "metadata": {},
   "source": [
    "## 何为self？\n",
    "- self 是指向对象本身的参数\n",
    "- self 只是一个命名规则，其实可以改变的，但是我们约定俗成的是self，也便于理解\n",
    "- 使用了self就可以访问类中定义的成员\n",
    "<img src=\"../Photo/86.png\"></img>"
   ]
  },
  {
   "cell_type": "markdown",
   "metadata": {},
   "source": [
    "## 使用类 Cirlcle"
   ]
  },
  {
   "cell_type": "markdown",
   "metadata": {},
   "source": [
    "## 类的传参\n",
    "- class ClassName:\n",
    "    \n",
    "        def __init__(self, para1,para2...)：\n",
    "            \n",
    "            self.para1 = para1\n",
    "            \n",
    "            self.para2 = para2"
   ]
  },
  {
   "cell_type": "markdown",
   "metadata": {},
   "source": [
    "## EP:\n",
    "- A：定义一个类，类中含有两个功能：\n",
    "    - 1、计算随机数的最大值\n",
    "    - 2、计算随机数的最小值\n",
    "- B：定义一个类，（类中函数的嵌套使用）\n",
    "    - 1、第一个函数的功能为：输入一个数字\n",
    "    - 2、第二个函数的功能为：使用第一个函数中得到的数字进行平方处理\n",
    "    - 3、第三个函数的功能为：得到平方处理后的数字 - 原来输入的数字，并打印结果"
   ]
  },
  {
   "cell_type": "code",
   "execution_count": 16,
   "metadata": {},
   "outputs": [],
   "source": [
    "import random"
   ]
  },
  {
   "cell_type": "code",
   "execution_count": 17,
   "metadata": {},
   "outputs": [],
   "source": [
    "a = random.randint(0,10)\n",
    "b = random.randint(0,10)\n",
    "c = random.randint(0,10)"
   ]
  },
  {
   "cell_type": "code",
   "execution_count": 24,
   "metadata": {},
   "outputs": [],
   "source": [
    "class joker2:\n",
    "    def __init__(self,a,b,c):\n",
    "        print('走了init')\n",
    "        self.a = a\n",
    "        self.b = b\n",
    "        self.c = c\n",
    "    def max_(self):\n",
    "           return max(self.a,self.b,self.c)  "
   ]
  },
  {
   "cell_type": "code",
   "execution_count": 34,
   "metadata": {},
   "outputs": [
    {
     "name": "stdout",
     "output_type": "stream",
     "text": [
      "走了init\n"
     ]
    }
   ],
   "source": [
    "sb = joker2(a,b,c)"
   ]
  },
  {
   "cell_type": "code",
   "execution_count": null,
   "metadata": {},
   "outputs": [],
   "source": []
  },
  {
   "cell_type": "code",
   "execution_count": 48,
   "metadata": {},
   "outputs": [],
   "source": [
    "class joker3:\n",
    "    def __init__(self):\n",
    "        pass\n",
    "    def input_(self):\n",
    "        num = eval(input('>>'))\n",
    "        return num\n",
    "    def square(self):\n",
    "        num = self.input_()\n",
    "        num_2 = num ** 2\n",
    "        return num_2\n",
    "    def chazhi(self):\n",
    "        num = self.input_()\n",
    "        num2 = self.square()\n",
    "        return num2 - num"
   ]
  },
  {
   "cell_type": "code",
   "execution_count": 49,
   "metadata": {},
   "outputs": [],
   "source": [
    "ab = joker3()"
   ]
  },
  {
   "cell_type": "code",
   "execution_count": 51,
   "metadata": {},
   "outputs": [
    {
     "name": "stdout",
     "output_type": "stream",
     "text": [
      ">>10\n"
     ]
    },
    {
     "data": {
      "text/plain": [
       "10"
      ]
     },
     "execution_count": 51,
     "metadata": {},
     "output_type": "execute_result"
    }
   ],
   "source": [
    "ab.input_()"
   ]
  },
  {
   "cell_type": "code",
   "execution_count": 52,
   "metadata": {},
   "outputs": [
    {
     "name": "stdout",
     "output_type": "stream",
     "text": [
      ">>10\n"
     ]
    },
    {
     "data": {
      "text/plain": [
       "100"
      ]
     },
     "execution_count": 52,
     "metadata": {},
     "output_type": "execute_result"
    }
   ],
   "source": [
    "ab.square()"
   ]
  },
  {
   "cell_type": "code",
   "execution_count": 55,
   "metadata": {},
   "outputs": [],
   "source": [
    "class QQ:\n",
    "    def __init__(self):\n",
    "        self.account = '123'\n",
    "        self.password = '123'\n",
    "    def account_(self):\n",
    "        acc = input('输入账')\n",
    "        passwor = input('输入密码')\n",
    "        if acc == self.account and self.password == passwor:\n",
    "            print('succeed')\n",
    "        else:\n",
    "            self.yanzhengma()\n",
    "    def yanzhengma(self):\n",
    "        yanzhen = 'ppp'\n",
    "        print('验证码:',yanzhen)\n",
    "        while 1:\n",
    "            N = input('输入验证码')\n",
    "            if N == yanzhen:\n",
    "                print('succeed')\n",
    "                prrint('error')\n",
    "                break"
   ]
  },
  {
   "cell_type": "markdown",
   "metadata": {},
   "source": [
    "## 类的继承\n",
    "- 类的单继承\n",
    "- 类的多继承\n",
    "- 继承标识\n",
    ">  class SonClass(FatherClass):\n",
    "            \n",
    "            def __init__(self):\n",
    "            \n",
    "                FatherClass.__init__(self)"
   ]
  },
  {
   "cell_type": "code",
   "execution_count": 56,
   "metadata": {},
   "outputs": [],
   "source": [
    "class fu(object):\n",
    "    def __init__(self):\n",
    "        self.a = 'a'\n",
    "        self.b = 'b'\n",
    "    def print_(self):\n",
    "        print('fu')"
   ]
  },
  {
   "cell_type": "code",
   "execution_count": 57,
   "metadata": {},
   "outputs": [],
   "source": [
    "class zi(fu):\n",
    "    def __init__(self):\n",
    "        #告诉父类，子类即将继承父类\n",
    "        fu.__init__(self)\n",
    "        print(self.a)"
   ]
  },
  {
   "cell_type": "code",
   "execution_count": 58,
   "metadata": {},
   "outputs": [
    {
     "name": "stdout",
     "output_type": "stream",
     "text": [
      "a\n"
     ]
    }
   ],
   "source": [
    "joker4 = zi()"
   ]
  },
  {
   "cell_type": "code",
   "execution_count": null,
   "metadata": {},
   "outputs": [],
   "source": []
  },
  {
   "cell_type": "code",
   "execution_count": null,
   "metadata": {},
   "outputs": [],
   "source": []
  },
  {
   "cell_type": "code",
   "execution_count": null,
   "metadata": {},
   "outputs": [],
   "source": []
  },
  {
   "cell_type": "code",
   "execution_count": null,
   "metadata": {},
   "outputs": [],
   "source": []
  },
  {
   "cell_type": "markdown",
   "metadata": {},
   "source": [
    "## 私有数据域(私有变量，或者私有函数)\n",
    "- 在Python中 变量名或者函数名使用双下划线代表私有  \\__Joker,   def \\__Joker():\n",
    "- 私有数据域不可继承\n",
    "- 私有数据域强制继承   \\__dir__()"
   ]
  },
  {
   "cell_type": "markdown",
   "metadata": {},
   "source": [
    "![](../Photo/87.png)"
   ]
  },
  {
   "cell_type": "markdown",
   "metadata": {},
   "source": [
    "## EP:\n",
    "![](../Photo/88.png)\n",
    "![](../Photo/89.png)\n",
    "![](../Photo/90.png)\n"
   ]
  },
  {
   "cell_type": "markdown",
   "metadata": {},
   "source": [
    "## 类的其他\n",
    "- 类的封装\n",
    "    - 实际上就是将一类功能放在一起，方便未来进行管理\n",
    "- 类的继承（上面已经讲过）\n",
    "- 类的多态\n",
    "    - 包括装饰器：将放在以后处理高级类中教\n",
    "    - 装饰器的好处：当许多类中的函数需要使用同一个功能的时候，那么使用装饰器就会方便许多\n",
    "    - 装饰器是有固定的写法\n",
    "        - 其包括普通装饰器与带参装饰器"
   ]
  },
  {
   "cell_type": "markdown",
   "metadata": {},
   "source": [
    "# Homewor\n",
    "## UML类图可以不用画\n",
    "## UML 实际上就是一个思维图\n",
    "- 1\n",
    "![](../Photo/91.png)"
   ]
  },
  {
   "cell_type": "code",
   "execution_count": 13,
   "metadata": {},
   "outputs": [],
   "source": [
    "class rectangle:\n",
    "    def __int__(self):\n",
    "        self.width = 1\n",
    "        self.height = 2\n",
    "    def getarea(self):\n",
    "        return self.width*self.height\n",
    "    def getper(self):\n",
    "        return (self.width+self.height)*2"
   ]
  },
  {
   "cell_type": "code",
   "execution_count": 16,
   "metadata": {},
   "outputs": [
    {
     "ename": "NameError",
     "evalue": "name 'getarea' is not defined",
     "output_type": "error",
     "traceback": [
      "\u001b[1;31m---------------------------------------------------------------------------\u001b[0m",
      "\u001b[1;31mNameError\u001b[0m                                 Traceback (most recent call last)",
      "\u001b[1;32m<ipython-input-16-6c00b9b317d6>\u001b[0m in \u001b[0;36m<module>\u001b[1;34m\u001b[0m\n\u001b[1;32m----> 1\u001b[1;33m \u001b[0mgetarea\u001b[0m\u001b[1;33m(\u001b[0m\u001b[1;36m1\u001b[0m\u001b[1;33m)\u001b[0m\u001b[1;33m\u001b[0m\u001b[1;33m\u001b[0m\u001b[0m\n\u001b[0m",
      "\u001b[1;31mNameError\u001b[0m: name 'getarea' is not defined"
     ]
    }
   ],
   "source": [
    "getarea()"
   ]
  },
  {
   "cell_type": "markdown",
   "metadata": {},
   "source": [
    "- 2\n",
    "![](../Photo/92.png)"
   ]
  },
  {
   "cell_type": "markdown",
   "metadata": {},
   "source": [
    "- 3\n",
    "![](../Photo/93.png)"
   ]
  },
  {
   "cell_type": "markdown",
   "metadata": {},
   "source": [
    "- 4\n",
    "![](../Photo/94.png)\n",
    "![](../Photo/95.png)"
   ]
  },
  {
   "cell_type": "markdown",
   "metadata": {},
   "source": [
    "- 5\n",
    "![](../Photo/96.png)"
   ]
  },
  {
   "cell_type": "markdown",
   "metadata": {},
   "source": [
    "- 6\n",
    "![](../Photo/97.png)"
   ]
  },
  {
   "cell_type": "markdown",
   "metadata": {},
   "source": [
    "- 7\n",
    "![](../Photo/98.png)"
   ]
  },
  {
   "cell_type": "code",
   "execution_count": null,
   "metadata": {},
   "outputs": [],
   "source": []
  },
  {
   "cell_type": "code",
   "execution_count": null,
   "metadata": {},
   "outputs": [],
   "source": []
  },
  {
   "cell_type": "code",
   "execution_count": null,
   "metadata": {},
   "outputs": [],
   "source": []
  },
  {
   "cell_type": "code",
   "execution_count": null,
   "metadata": {},
   "outputs": [],
   "source": []
  },
  {
   "cell_type": "code",
   "execution_count": null,
   "metadata": {},
   "outputs": [],
   "source": []
  },
  {
   "cell_type": "code",
   "execution_count": null,
   "metadata": {},
   "outputs": [],
   "source": []
  },
  {
   "cell_type": "code",
   "execution_count": null,
   "metadata": {},
   "outputs": [],
   "source": []
  },
  {
   "cell_type": "code",
   "execution_count": null,
   "metadata": {},
   "outputs": [],
   "source": []
  },
  {
   "cell_type": "code",
   "execution_count": null,
   "metadata": {},
   "outputs": [],
   "source": []
  }
 ],
 "metadata": {
  "kernelspec": {
   "display_name": "Python 3",
   "language": "python",
   "name": "python3"
  },
  "language_info": {
   "codemirror_mode": {
    "name": "ipython",
    "version": 3
   },
   "file_extension": ".py",
   "mimetype": "text/x-python",
   "name": "python",
   "nbconvert_exporter": "python",
   "pygments_lexer": "ipython3",
   "version": "3.7.3"
  }
 },
 "nbformat": 4,
 "nbformat_minor": 2
}
