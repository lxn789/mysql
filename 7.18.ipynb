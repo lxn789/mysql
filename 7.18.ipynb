{
 "cells": [
  {
   "cell_type": "markdown",
   "metadata": {},
   "source": [
    "# 选择\n",
    "## 布尔类型、数值和表达式\n",
    "![](../Photo/33.png)\n",
    "- 注意：比较运算符的相等是两个等号，一个等到代表赋值\n",
    "- 在Python中可以用整型0来代表False，其他数字来代表True\n",
    "- 后面还会讲到 is 在判断语句中的用发"
   ]
  },
  {
   "cell_type": "code",
   "execution_count": 1,
   "metadata": {},
   "outputs": [
    {
     "data": {
      "text/plain": [
       "False"
      ]
     },
     "execution_count": 1,
     "metadata": {},
     "output_type": "execute_result"
    }
   ],
   "source": [
    "1 > 2"
   ]
  },
  {
   "cell_type": "code",
   "execution_count": 2,
   "metadata": {},
   "outputs": [
    {
     "data": {
      "text/plain": [
       "True"
      ]
     },
     "execution_count": 2,
     "metadata": {},
     "output_type": "execute_result"
    }
   ],
   "source": [
    "1 < 2"
   ]
  },
  {
   "cell_type": "code",
   "execution_count": 3,
   "metadata": {},
   "outputs": [
    {
     "data": {
      "text/plain": [
       "True"
      ]
     },
     "execution_count": 3,
     "metadata": {},
     "output_type": "execute_result"
    }
   ],
   "source": [
    "1<=2<=3"
   ]
  },
  {
   "cell_type": "code",
   "execution_count": 5,
   "metadata": {},
   "outputs": [
    {
     "data": {
      "text/plain": [
       "True"
      ]
     },
     "execution_count": 5,
     "metadata": {},
     "output_type": "execute_result"
    }
   ],
   "source": [
    "bool(-1)"
   ]
  },
  {
   "cell_type": "code",
   "execution_count": 8,
   "metadata": {},
   "outputs": [
    {
     "name": "stdout",
     "output_type": "stream",
     "text": [
      "140712576652096 140712576652096\n"
     ]
    },
    {
     "data": {
      "text/plain": [
       "False"
      ]
     },
     "execution_count": 8,
     "metadata": {},
     "output_type": "execute_result"
    }
   ],
   "source": [
    "a = id(1)\n",
    "b = id(1)\n",
    "#因为AB不是同一个对象\n",
    "print(a,b)\n",
    "a is b"
   ]
  },
  {
   "cell_type": "markdown",
   "metadata": {},
   "source": [
    "## 字符串的比较使用ASCII值"
   ]
  },
  {
   "cell_type": "code",
   "execution_count": 10,
   "metadata": {},
   "outputs": [
    {
     "data": {
      "text/plain": [
       "True"
      ]
     },
     "execution_count": 10,
     "metadata": {},
     "output_type": "execute_result"
    }
   ],
   "source": [
    "a = \"ac\"\n",
    "b = \"ad\"\n",
    "a < b"
   ]
  },
  {
   "cell_type": "markdown",
   "metadata": {},
   "source": [
    "## Markdown \n",
    "- https://github.com/younghz/Markdown"
   ]
  },
  {
   "cell_type": "markdown",
   "metadata": {},
   "source": []
  },
  {
   "cell_type": "markdown",
   "metadata": {},
   "source": [
    "## EP:\n",
    "- <img src=\"../Photo/34.png\"></img>\n",
    "- 输入一个数字，判断其实奇数还是偶数"
   ]
  },
  {
   "cell_type": "code",
   "execution_count": 15,
   "metadata": {},
   "outputs": [
    {
     "name": "stdout",
     "output_type": "stream",
     "text": [
      "True\n"
     ]
    }
   ],
   "source": [
    "b1 = bool(4)\n",
    "print(b1)"
   ]
  },
  {
   "cell_type": "code",
   "execution_count": 16,
   "metadata": {},
   "outputs": [
    {
     "name": "stdout",
     "output_type": "stream",
     "text": [
      "0\n"
     ]
    }
   ],
   "source": [
    "j = int(False)\n",
    "print(j)"
   ]
  },
  {
   "cell_type": "markdown",
   "metadata": {},
   "source": [
    "## 产生随机数字\n",
    "- 函数random.randint(a,b) 可以用来产生一个a和b之间且包括a和b的随机整数"
   ]
  },
  {
   "cell_type": "markdown",
   "metadata": {},
   "source": [
    "产生一个随机数，你去输入，如果你输入的数大于随机数，那么就告诉你太大了，反之，太小了，\n",
    "然后你一直输入，知道它满意为止"
   ]
  },
  {
   "cell_type": "code",
   "execution_count": 39,
   "metadata": {},
   "outputs": [],
   "source": [
    "num = random.randint(0,5)"
   ]
  },
  {
   "cell_type": "code",
   "execution_count": 43,
   "metadata": {},
   "outputs": [
    {
     "name": "stdout",
     "output_type": "stream",
     "text": [
      "zs4\n",
      "太大了\n",
      "zs3\n",
      "太大了\n",
      "zs2\n",
      "太大了\n"
     ]
    }
   ],
   "source": [
    "for i in range(3):\n",
    "    import random\n",
    "    a = eval(input(\"zs\"))\n",
    "    if num > a:\n",
    "        print(\"太小了\")\n",
    "    if num < a:\n",
    "        print(\"太大了\")\n",
    "    if num == a:\n",
    "        print(\"ok\")\n",
    "        break"
   ]
  },
  {
   "cell_type": "markdown",
   "metadata": {},
   "source": [
    "##  其他random方法\n",
    "- random.random 返回0.0到1.0之间前闭后开区间的随机浮点\n",
    "- random.randrange(a,b) 前闭后开"
   ]
  },
  {
   "cell_type": "code",
   "execution_count": 44,
   "metadata": {},
   "outputs": [
    {
     "data": {
      "text/plain": [
       "0.3271862549626392"
      ]
     },
     "execution_count": 44,
     "metadata": {},
     "output_type": "execute_result"
    }
   ],
   "source": [
    "random.random() "
   ]
  },
  {
   "cell_type": "markdown",
   "metadata": {},
   "source": [
    "## EP：\n",
    "- 产生两个随机整数number1和number2，然后显示给用户，使用户输入数字的和，并判定其是否正确\n",
    "- 进阶:写一个随机序号点名程序"
   ]
  },
  {
   "cell_type": "code",
   "execution_count": null,
   "metadata": {},
   "outputs": [
    {
     "name": "stdout",
     "output_type": "stream",
     "text": [
      "2 2\n",
      ">>4\n",
      "true\n"
     ]
    }
   ],
   "source": [
    "import random\n",
    "num_1 = random.randrange(1,5)\n",
    "num_2 = random.randrange(1,5)\n",
    "print(num_1,num_2)\n",
    "while 1:\n",
    "    sum_ = eval(input(\">>\"))\n",
    "    if sum_ == (num_1 + num_2):\n",
    "        print(\"true\")\n",
    "    else:\n",
    "        print(\"flase\")"
   ]
  },
  {
   "cell_type": "markdown",
   "metadata": {},
   "source": [
    "## if语句\n",
    "- 如果条件正确就执行一个单向if语句，亦即当条件为真的时候才执行if内部的语句\n",
    "- Python有很多选择语句:\n",
    "> - 单向if \n",
    "  - 双向if-else\n",
    "  - 嵌套if\n",
    "  - 多向if-elif-else\n",
    "  \n",
    "- 注意：当语句含有子语句的时候，那么一定至少要有一个缩进，也就是说如果有儿子存在，那么一定要缩进\n",
    "- 切记不可tab键和space混用，单用tab 或者 space\n",
    "- 当你输出的结果是无论if是否为真时都需要显示时，语句应该与if对齐"
   ]
  },
  {
   "cell_type": "markdown",
   "metadata": {},
   "source": [
    "## EP：\n",
    "- 用户输入一个数字，判断其实奇数还是偶数\n",
    "- 进阶：可以查看下4.5实例研究猜生日"
   ]
  },
  {
   "cell_type": "markdown",
   "metadata": {},
   "source": [
    "## 双向if-else 语句\n",
    "- 如果条件为真，那么走if内部语句，否则走else内部语句"
   ]
  },
  {
   "cell_type": "code",
   "execution_count": 1,
   "metadata": {},
   "outputs": [
    {
     "name": "stdout",
     "output_type": "stream",
     "text": [
      "年轻嘛[y/n]y\n",
      "帅否[y/n]y\n",
      "有没有老婆[y/n]y\n",
      "回家的诱惑\n"
     ]
    }
   ],
   "source": [
    "age = input(\"年轻嘛[y/n]\")\n",
    "if age == \"y\":\n",
    "    handsome = input(\"帅否[y/n]\")\n",
    "    if handsome == \"y\":\n",
    "        wife = input(\"有没有老婆[y/n]\")\n",
    "        if wife ==\"y\":\n",
    "            print(\"回家的诱惑\")\n",
    "        else:\n",
    "            print(\"结婚\")\n",
    "    else:\n",
    "        print(\"考虑一下\")\n",
    "else:\n",
    "    print(\"拜拜\")"
   ]
  },
  {
   "cell_type": "markdown",
   "metadata": {},
   "source": [
    "## EP：\n",
    "- 产生两个随机整数number1和number2，然后显示给用户，使用户输入数字，并判定其是否正确,如果正确打印“you‘re correct”，否则打印正确错误"
   ]
  },
  {
   "cell_type": "markdown",
   "metadata": {},
   "source": [
    "## 嵌套if 和多向if-elif-else\n",
    "![](../Photo/35.png)"
   ]
  },
  {
   "cell_type": "markdown",
   "metadata": {},
   "source": [
    "## EP：\n",
    "- 提示用户输入一个年份，然后显示表示这一年的动物\n",
    "![](../Photo/36.png)\n",
    "- 计算身体质量指数的程序\n",
    "- BMI = 以千克为单位的体重除以以米为单位的身高的平方\n",
    "![](../Photo/37.png)"
   ]
  },
  {
   "cell_type": "code",
   "execution_count": 9,
   "metadata": {},
   "outputs": [
    {
     "name": "stdout",
     "output_type": "stream",
     "text": [
      "请输入年份:2018\n",
      "gou\n"
     ]
    }
   ],
   "source": [
    "years = int(input(\"请输入年份:\"))\n",
    "if years%12 == 0:\n",
    "    years = \"hou\"\n",
    "elif years % 12 ==1: \n",
    "    years = \"ji\"\n",
    "elif years % 12 ==2: \n",
    "     years = \"gou\"\n",
    "elif years % 12 ==3: \n",
    "     years = \"zhu\"\n",
    "elif years % 12 ==4: \n",
    "     years = \"shu\"\n",
    "elif years % 12 ==5: \n",
    "     years = \"hou\"\n",
    "elif years % 12 ==6: \n",
    "     years = \"niu\"\n",
    "elif years % 12 ==7: \n",
    "     years = \"hu\"\n",
    "elif years % 12 ==8: \n",
    "     years = \"tu\"\n",
    "elif years % 12 ==9: \n",
    "     years = \"long\"\n",
    "elif years % 12 ==10: \n",
    "     years = \"se\"\n",
    "else:\n",
    "     years = \"ma\"\n",
    "print(years)"
   ]
  },
  {
   "cell_type": "code",
   "execution_count": 3,
   "metadata": {},
   "outputs": [
    {
     "name": "stdout",
     "output_type": "stream",
     "text": [
      "身高m:1.66\n",
      "体重kg:51\n",
      "标准\n"
     ]
    }
   ],
   "source": [
    "high = float(input(\"身高m:\"))\n",
    "weight = float(input(\"体重kg:\"))\n",
    "BMI = weight / high **2\n",
    "if BMI<18.5:\n",
    "    print(\"超轻\")\n",
    "elif 18.5<=BMI<25.0:\n",
    "    print(\"标准\")\n",
    "elif 25.0<=BMI<30.0:\n",
    "    print(\"超重\")\n",
    "else:\n",
    "    print(\"肥胖\")"
   ]
  },
  {
   "cell_type": "markdown",
   "metadata": {},
   "source": [
    "## 逻辑运算符\n",
    "![](../Photo/38.png)"
   ]
  },
  {
   "cell_type": "markdown",
   "metadata": {},
   "source": [
    "![](../Photo/39.png)\n",
    "![](../Photo/40.png)"
   ]
  },
  {
   "cell_type": "markdown",
   "metadata": {},
   "source": [
    "## EP：\n",
    "- 判定闰年：一个年份如果能被4整除但不能被100整除，或者能被400整除，那么这个年份就是闰年\n",
    "- 提示用户输入一个年份，并返回是否是闰年\n",
    "- 提示用户输入一个数字，判断其是否为水仙花数"
   ]
  },
  {
   "cell_type": "code",
   "execution_count": 26,
   "metadata": {},
   "outputs": [
    {
     "name": "stdout",
     "output_type": "stream",
     "text": [
      "year2008\n",
      "闰年\n"
     ]
    }
   ],
   "source": [
    "year = eval(input(\"year\"))\n",
    "if (year%4 == 0 and year%100 != 0) or (year%400 == 0):\n",
    "    print(\"闰年\")\n",
    "else:\n",
    "    print(\"不是\")"
   ]
  },
  {
   "cell_type": "code",
   "execution_count": 28,
   "metadata": {},
   "outputs": [
    {
     "name": "stdout",
     "output_type": "stream",
     "text": [
      ">>50\n",
      "no\n"
     ]
    }
   ],
   "source": [
    "num = eval(input(\">>\"))\n",
    "bai = num // 100\n",
    "shi = num // 10 % 10\n",
    "ge = num % 10\n",
    "if bai**3 + shi **3 + ge **3 == num:\n",
    "    print(\"水仙花\")\n",
    "else:\n",
    "    print(\"no\")"
   ]
  },
  {
   "cell_type": "markdown",
   "metadata": {},
   "source": [
    "## 实例研究：彩票\n",
    "![](../Photo/41.png)"
   ]
  },
  {
   "cell_type": "code",
   "execution_count": 32,
   "metadata": {},
   "outputs": [
    {
     "name": "stdout",
     "output_type": "stream",
     "text": [
      "66\n",
      ">>56\n",
      "1000\n"
     ]
    }
   ],
   "source": [
    "import random\n",
    "num = random.randint(10,99)\n",
    "print(num)\n",
    "n = input(\">>\")\n",
    "num_shi = num //10\n",
    "num_ge = num % 10\n",
    "if n[0] == \"0\":\n",
    "    n_shi = 0\n",
    "else:\n",
    "    n_shi = int(n) // 10\n",
    "    n_ge = int(n) % 10\n",
    "if num == n:\n",
    "    print(\"10000\")\n",
    "elif num_shi + num_ge == n_shi + n_ge:\n",
    "    print(\"3000\")\n",
    "elif (num_ge == n_ge or num_ge == n_shi) or (num_shi == n_ge or num_shi == n_shi):\n",
    "    print(\"1000\")\n"
   ]
  },
  {
   "cell_type": "markdown",
   "metadata": {},
   "source": [
    "# Homework\n",
    "- 1\n",
    "![](../Photo/42.png)"
   ]
  },
  {
   "cell_type": "code",
   "execution_count": 9,
   "metadata": {},
   "outputs": [
    {
     "name": "stdout",
     "output_type": "stream",
     "text": [
      "a1\n",
      "b2\n",
      "c3\n",
      "the equation has on real roots\n"
     ]
    }
   ],
   "source": [
    "import math\n",
    "a = eval(input(\"a\"))\n",
    "b = eval(input(\"b\"))\n",
    "c = eval(input(\"c\"))\n",
    "l1 = b**2 - 4*a*c\n",
    "if l1 >0:\n",
    "    l2 = math.sqrt(l1)\n",
    "    r1 = (-b + l2 )/(2*a)\n",
    "    r2 = (-b - l2 )/(2*a)\n",
    "    print(r1,r2)\n",
    "if l1 == 0:\n",
    "    print(r1)\n",
    "else:\n",
    "    print(\"the equation has on real roots\")"
   ]
  },
  {
   "cell_type": "markdown",
   "metadata": {},
   "source": [
    "- 2\n",
    "![](../Photo/43.png)"
   ]
  },
  {
   "cell_type": "code",
   "execution_count": null,
   "metadata": {},
   "outputs": [
    {
     "name": "stdout",
     "output_type": "stream",
     "text": [
      "88 89\n",
      ">>177\n",
      "true\n",
      ">>176\n",
      "flase\n"
     ]
    }
   ],
   "source": [
    "import random\n",
    "num_1 = int(random.randrange(0,100))\n",
    "num_2 = int(random.randrange(0,100))\n",
    "print(num_1,num_2)\n",
    "while 1:\n",
    "    sum_ = eval(input(\">>\"))\n",
    "    if sum_ == (num_1 + num_2):\n",
    "        print(\"true\")\n",
    "    else:\n",
    "        print(\"flase\")"
   ]
  },
  {
   "cell_type": "markdown",
   "metadata": {},
   "source": [
    "- 3\n",
    "![](../Photo/44.png)"
   ]
  },
  {
   "cell_type": "code",
   "execution_count": 1,
   "metadata": {},
   "outputs": [
    {
     "name": "stdout",
     "output_type": "stream",
     "text": [
      "0-6的数字:0\n",
      "几天后:31\n",
      "31 天后是星期 3\n"
     ]
    }
   ],
   "source": [
    "day = eval(input('0-6的数字:'))\n",
    "today = eval(input('几天后:'))\n",
    "if day==0:\n",
    "    x = today%7+day\n",
    "    print(today,'天后是星期',x)\n",
    "if day==1:\n",
    "    x = today%7+day\n",
    "    print(today,'天后是星期',x)\n",
    "if day==2:\n",
    "    x = today%7+day\n",
    "    print(today,'天后是星期',x)\n",
    "if day==3:\n",
    "    x = today%7+day\n",
    "    print(today,'天后是星期',x)\n",
    "if day==4:\n",
    "    x = today%7+day\n",
    "    print(today,'天后是星期',x)\n",
    "if day==5:\n",
    "    x = today%7+day\n",
    "    print(today,'天后是星期',x)\n",
    "if day==6:\n",
    "    x = today%7+day\n",
    "    print(today,'天后是星期',x)"
   ]
  },
  {
   "cell_type": "markdown",
   "metadata": {},
   "source": [
    "- 4\n",
    "![](../Photo/45.png)"
   ]
  },
  {
   "cell_type": "code",
   "execution_count": 5,
   "metadata": {},
   "outputs": [
    {
     "name": "stdout",
     "output_type": "stream",
     "text": [
      "a:3\n",
      "b:2\n",
      "c:5\n",
      "[2, 3, 5]\n"
     ]
    }
   ],
   "source": [
    "a = int(input(\"a:\"))\n",
    "b = int(input(\"b:\"))\n",
    "c = int(input(\"c:\"))\n",
    "list = [a,b,c]\n",
    "list.sort()\n",
    "print(list)"
   ]
  },
  {
   "cell_type": "code",
   "execution_count": 7,
   "metadata": {},
   "outputs": [
    {
     "name": "stdout",
     "output_type": "stream",
     "text": [
      "x3\n",
      "y2\n",
      "z5\n",
      "2 3 5\n"
     ]
    }
   ],
   "source": [
    "x = int(input(\"x\"))\n",
    "y = int(input(\"y\"))\n",
    "z = int(input(\"z\"))\n",
    "if x>y:\n",
    "    x,y = y,x\n",
    "if x>z:\n",
    "    x,z = z,x\n",
    "if y>z:\n",
    "    y,z = z,y\n",
    "print(x,y,z)"
   ]
  },
  {
   "cell_type": "markdown",
   "metadata": {},
   "source": [
    "- 5\n",
    "![](../Photo/46.png)"
   ]
  },
  {
   "cell_type": "code",
   "execution_count": 9,
   "metadata": {},
   "outputs": [
    {
     "name": "stdout",
     "output_type": "stream",
     "text": [
      "price,package50,24.59\n",
      "price,package25,11.99\n",
      "第二个好\n"
     ]
    }
   ],
   "source": [
    "rice_1_price,rice_1_package = eval(input(\"price,package\"))\n",
    "rice_2_price,rice_2_package = eval(input(\"price,package\"))\n",
    "if (rice_1_price/rice_1_package) < (rice_2_price / rice_2_package):\n",
    "    print(\"第二个好\")\n",
    "elif (rice_1_price / rice_1_package) == (rice_2_price / rice_2_package):\n",
    "    print(\"一样个好\")\n",
    "elif (rice_1_price / rice_1_package) > (rice_2_price / rice_2_package): \n",
    "    print(\"第一个好\")"
   ]
  },
  {
   "cell_type": "markdown",
   "metadata": {},
   "source": [
    "- 6\n",
    "![](../Photo/47.png)"
   ]
  },
  {
   "cell_type": "code",
   "execution_count": 10,
   "metadata": {},
   "outputs": [
    {
     "name": "stdout",
     "output_type": "stream",
     "text": [
      "年份：2005\n",
      "月份：3\n",
      "31天\n"
     ]
    }
   ],
   "source": [
    "year = eval(input('年份：'))\n",
    "month = eval(input('月份：'))\n",
    "if (year % 4 == 0  and year % 100 != 0) or (year % 400 ==0) :\n",
    "    if (month == 2):\n",
    "        print(\"29天\")\n",
    "    if (month == 1 or month == 3 or month == 5 or month == 7 or month == 8 or month == 10 or month == 12):\n",
    "        print(\"31天\")\n",
    "    if (month == 4 or month == 6 or month == 9 or month == 11):\n",
    "        print(\"30天\")\n",
    "else:\n",
    "    if (month == 2):\n",
    "        print(\"28天\")\n",
    "    if (month == 1 or month == 3 or month == 5 or month == 7 or month == 8 or month == 10 or month == 12):\n",
    "        print(\"31天\")\n",
    "    if (month == 4 or month == 6 or month == 9 or month == 11):\n",
    "        print(\"30天\")        "
   ]
  },
  {
   "cell_type": "markdown",
   "metadata": {},
   "source": [
    "- 7\n",
    "![](../Photo/48.png)"
   ]
  },
  {
   "cell_type": "code",
   "execution_count": 5,
   "metadata": {},
   "outputs": [
    {
     "name": "stdout",
     "output_type": "stream",
     "text": [
      "正面为1，反面为0 输入猜测数字1\n",
      "猜测正确\n"
     ]
    }
   ],
   "source": [
    "import random\n",
    "x = random.randint(0,1)\n",
    "y = eval(input('正面为1，反面为0 输入猜测数字'))\n",
    "if y == x:\n",
    "    print('猜测正确')\n",
    "else :\n",
    "    print('猜测错误')"
   ]
  },
  {
   "cell_type": "markdown",
   "metadata": {},
   "source": [
    "- 8\n",
    "![](../Photo/49.png)"
   ]
  },
  {
   "cell_type": "code",
   "execution_count": 7,
   "metadata": {},
   "outputs": [
    {
     "name": "stdout",
     "output_type": "stream",
     "text": [
      "剪刀为0，石头为1，布为2，剪刀-石头-布：2\n",
      "mine won\n"
     ]
    }
   ],
   "source": [
    "import random\n",
    "computer = random.randint(0,2)\n",
    "mine = eval(input('剪刀为0，石头为1，布为2，剪刀-石头-布：'))\n",
    "if computer>mine:\n",
    "    print('computer won')\n",
    "if computer<mine:\n",
    "    print('mine won')\n",
    "if computer==mine:\n",
    "    print('it is a draw')"
   ]
  },
  {
   "cell_type": "markdown",
   "metadata": {},
   "source": [
    "- 9\n",
    "![](../Photo/50.png)"
   ]
  },
  {
   "cell_type": "code",
   "execution_count": 2,
   "metadata": {},
   "outputs": [
    {
     "name": "stdout",
     "output_type": "stream",
     "text": [
      "输入年份:2013\n",
      "输入月份:1\n",
      "输入天数:25\n",
      "day of the  0.030000000000001137\n"
     ]
    }
   ],
   "source": [
    "year = eval(input('输入年份:'))\n",
    "m = eval(input('输入月份:'))\n",
    "q = eval(input('输入天数:'))\n",
    "if m>=3:\n",
    "    j = year/100\n",
    "    k = year%100\n",
    "    h = (q+((26*(m+1))/10)+k+(k/4)+(j/4)+(5*j))%7\n",
    "    if h == 0:\n",
    "        print('六')\n",
    "    if h == 1:\n",
    "        print('日')\n",
    "    if h == 2:\n",
    "        print('一')\n",
    "    if h == 3:\n",
    "        print('二')\n",
    "    if h == 4:\n",
    "        print('三')\n",
    "    if h == 5:\n",
    "        print('四')\n",
    "    if h == 6:\n",
    "        print('五')\n",
    "    print('day of the ',h)\n",
    "if m<3:\n",
    "    m1=13\n",
    "    j = (year-1)/100\n",
    "    k = (year-1)%100\n",
    "    h1 = q+(26*(m1+1))/10\n",
    "    h2 = k+k/4+j/4+5*j\n",
    "    h = (h1+h2)%7\n",
    "    if h == 0:\n",
    "        print('六')\n",
    "    if h == 1:\n",
    "        print('日')\n",
    "    if h == 2:\n",
    "        print('一')\n",
    "    if h == 3:\n",
    "        print('二')\n",
    "    if h == 4:\n",
    "        print('三')\n",
    "    if h == 5:\n",
    "        print('四')\n",
    "    if h == 6:\n",
    "        print('五')\n",
    "    print('day of the ',h)"
   ]
  },
  {
   "cell_type": "markdown",
   "metadata": {},
   "source": [
    "- 10\n",
    "![](../Photo/51.png)"
   ]
  },
  {
   "cell_type": "code",
   "execution_count": 9,
   "metadata": {},
   "outputs": [
    {
     "name": "stdout",
     "output_type": "stream",
     "text": [
      "红桃\n",
      "7\n"
     ]
    }
   ],
   "source": [
    "y = random.randint(1,52)\n",
    "if y%13==0:\n",
    "    if y//13==0:\n",
    "        print('梅花')\n",
    "    if y//13==1:\n",
    "        print('红桃')\n",
    "    if y//13==2:\n",
    "        print('方块')\n",
    "    if y//13==3:\n",
    "        print('黑桃')\n",
    "    print('Ace')\n",
    "    \n",
    "if y%13==10:\n",
    "    if y//13==0:\n",
    "        print('梅花')\n",
    "    if y//13==1:\n",
    "        print('红桃')\n",
    "    if y//13==2:\n",
    "        print('方块')\n",
    "    if y//13==3:\n",
    "        print('黑桃')\n",
    "    print('Jack')\n",
    "if y%13==11:\n",
    "    if y//13==0:\n",
    "        print('梅花')\n",
    "    if y//13==1:\n",
    "        print('红桃')\n",
    "    if y//13==2:\n",
    "        print('方块')\n",
    "    if y//13==3:\n",
    "        print('黑桃')\n",
    "    print('Queen')\n",
    "if y%13==12:\n",
    "    if y//13==0:\n",
    "        print('梅花')\n",
    "    if y//13==1:\n",
    "        print('红桃')\n",
    "    if y//13==2:\n",
    "        print('方块')\n",
    "    if y//13==3:\n",
    "        print('黑桃')\n",
    "    print('King')\n",
    "elif  1<=y%13<=10:\n",
    "    if y//13==0:\n",
    "        print('梅花')\n",
    "    if y//13==1:\n",
    "        print('红桃')\n",
    "    if y//13==2:\n",
    "        print('方块')\n",
    "    if y//13==3:\n",
    "        print('黑桃')\n",
    "    print(y%13)"
   ]
  },
  {
   "cell_type": "markdown",
   "metadata": {},
   "source": [
    "- 11\n",
    "![](../Photo/52.png)"
   ]
  },
  {
   "cell_type": "code",
   "execution_count": 10,
   "metadata": {},
   "outputs": [
    {
     "name": "stdout",
     "output_type": "stream",
     "text": [
      "输入一个三位整数121\n",
      "是回文数\n"
     ]
    }
   ],
   "source": [
    "x = eval(input('输入一个三位整数'))\n",
    "if x%10==x//100:\n",
    "    print('是回文数')\n",
    "else:\n",
    "    print('不是回文数')"
   ]
  },
  {
   "cell_type": "code",
   "execution_count": 11,
   "metadata": {},
   "outputs": [
    {
     "name": "stdout",
     "output_type": "stream",
     "text": [
      "输入一个三位整数123\n",
      "不是回文数\n"
     ]
    }
   ],
   "source": [
    "x = eval(input('输入一个三位整数'))\n",
    "if x%10==x//100:\n",
    "    print('是回文数')\n",
    "else:\n",
    "    print('不是回文数')"
   ]
  },
  {
   "cell_type": "markdown",
   "metadata": {},
   "source": [
    "- 12\n",
    "![](../Photo/53.png)"
   ]
  },
  {
   "cell_type": "code",
   "execution_count": 12,
   "metadata": {},
   "outputs": [
    {
     "name": "stdout",
     "output_type": "stream",
     "text": [
      "输入边长1,1,1\n",
      "3\n"
     ]
    }
   ],
   "source": [
    "a,b,c = eval(input('输入边长'))\n",
    "if (a+b>c) and (a+c>b) and (b+c>a):\n",
    "    print(a+b+c)\n",
    "else:\n",
    "    print('输入的边长不符合')"
   ]
  },
  {
   "cell_type": "code",
   "execution_count": 13,
   "metadata": {},
   "outputs": [
    {
     "name": "stdout",
     "output_type": "stream",
     "text": [
      "输入边长1,2,3\n",
      "输入的边长不符合\n"
     ]
    }
   ],
   "source": [
    "a,b,c = eval(input('输入边长'))\n",
    "if (a+b>c) and (a+c>b) and (b+c>a):\n",
    "    print(a+b+c)\n",
    "else:\n",
    "    print('输入的边长不符合')"
   ]
  }
 ],
 "metadata": {
  "kernelspec": {
   "display_name": "Python 3",
   "language": "python",
   "name": "python3"
  },
  "language_info": {
   "codemirror_mode": {
    "name": "ipython",
    "version": 3
   },
   "file_extension": ".py",
   "mimetype": "text/x-python",
   "name": "python",
   "nbconvert_exporter": "python",
   "pygments_lexer": "ipython3",
   "version": "3.7.3"
  }
 },
 "nbformat": 4,
 "nbformat_minor": 2
}
